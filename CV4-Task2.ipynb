{
 "cells": [
  {
   "cell_type": "code",
   "execution_count": 10,
   "id": "cdce7014-babd-4e8d-ab90-1810719615de",
   "metadata": {},
   "outputs": [],
   "source": [
    "import os\n",
    "import cv2\n",
    "import numpy as np\n",
    "from sklearn.model_selection import train_test_split\n",
    "import tensorflow as tf\n",
    "from tensorflow.keras.applications import ResNet50\n",
    "from tensorflow.keras.layers import Dense, GlobalAveragePooling2D\n",
    "from tensorflow.keras.models import Model\n",
    "from tensorflow.keras.optimizers import Adam\n",
    "\n",
    "def load_images_and_labels(data_root_path, target_size=(224, 224)):\n",
    "    image_data = []\n",
    "    image_labels = []\n",
    "    class_names = []\n",
    "\n",
    "    for domain_dir in os.listdir(data_root_path):\n",
    "        domain_path = os.path.join(data_root_path, domain_dir)\n",
    "        if os.path.isdir(domain_path):  \n",
    "            for class_dir in os.listdir(domain_path):\n",
    "                class_path = os.path.join(domain_path, class_dir)\n",
    "                if os.path.isdir(class_path):  \n",
    "                    for img_file in os.listdir(class_path):\n",
    "                        img_path = os.path.join(class_path, img_file)\n",
    "                        img = cv2.imread(img_path)\n",
    "                        if img is not None:\n",
    "                            resized_img = cv2.resize(img, target_size)\n",
    "                            image_data.append(resized_img)\n",
    "                            image_labels.append(class_dir)\n",
    "                            if class_dir not in class_names:\n",
    "                                class_names.append(class_dir)\n",
    "\n",
    "    image_data = np.array(image_data)\n",
    "    image_labels = np.array(image_labels)\n",
    "    class_to_index = {name: idx for idx, name in enumerate(class_names)}\n",
    "    image_labels = np.array([class_to_index[label] for label in image_labels])\n",
    "\n",
    "    return image_data, image_labels, class_names\n",
    "\n",
    "def split_data_by_class(image_data, image_labels, test_ratio=0.5):\n",
    "    train_data, train_labels, test_data, test_labels = [], [], [], []\n",
    "\n",
    "    for label in np.unique(image_labels):\n",
    "        indices = np.where(image_labels == label)[0]\n",
    "        label_data, label_labels = image_data[indices], image_labels[indices]\n",
    "        data_train, data_test, labels_train, labels_test = train_test_split(\n",
    "            label_data, label_labels, test_size=test_ratio, random_state=42\n",
    "        )\n",
    "        train_data.extend(data_train)\n",
    "        train_labels.extend(labels_train)\n",
    "        test_data.extend(data_test)\n",
    "        test_labels.extend(labels_test)\n",
    "\n",
    "    return np.array(train_data), np.array(train_labels), np.array(test_data), np.array(test_labels)\n",
    "\n"
   ]
  },
  {
   "cell_type": "code",
   "execution_count": 11,
   "id": "4b0f45a1-cc5b-49c4-8f93-9b4a8317369b",
   "metadata": {},
   "outputs": [
    {
     "name": "stdout",
     "output_type": "stream",
     "text": [
      "Epoch 1/10\n",
      "\u001b[1m57/57\u001b[0m \u001b[32m━━━━━━━━━━━━━━━━━━━━\u001b[0m\u001b[37m\u001b[0m \u001b[1m64s\u001b[0m 1s/step - accuracy: 0.4973 - loss: 2.0145 - val_accuracy: 0.7822 - val_loss: 0.8658\n",
      "Epoch 2/10\n",
      "\u001b[1m57/57\u001b[0m \u001b[32m━━━━━━━━━━━━━━━━━━━━\u001b[0m\u001b[37m\u001b[0m \u001b[1m63s\u001b[0m 1s/step - accuracy: 0.8988 - loss: 0.3699 - val_accuracy: 0.8164 - val_loss: 0.7434\n",
      "Epoch 3/10\n",
      "\u001b[1m57/57\u001b[0m \u001b[32m━━━━━━━━━━━━━━━━━━━━\u001b[0m\u001b[37m\u001b[0m \u001b[1m61s\u001b[0m 1s/step - accuracy: 0.9647 - loss: 0.1533 - val_accuracy: 0.8335 - val_loss: 0.6722\n",
      "Epoch 4/10\n",
      "\u001b[1m57/57\u001b[0m \u001b[32m━━━━━━━━━━━━━━━━━━━━\u001b[0m\u001b[37m\u001b[0m \u001b[1m64s\u001b[0m 1s/step - accuracy: 0.9756 - loss: 0.1043 - val_accuracy: 0.8445 - val_loss: 0.6836\n",
      "Epoch 5/10\n",
      "\u001b[1m57/57\u001b[0m \u001b[32m━━━━━━━━━━━━━━━━━━━━\u001b[0m\u001b[37m\u001b[0m \u001b[1m64s\u001b[0m 1s/step - accuracy: 0.9978 - loss: 0.0348 - val_accuracy: 0.8523 - val_loss: 0.6421\n",
      "Epoch 6/10\n",
      "\u001b[1m57/57\u001b[0m \u001b[32m━━━━━━━━━━━━━━━━━━━━\u001b[0m\u001b[37m\u001b[0m \u001b[1m64s\u001b[0m 1s/step - accuracy: 0.9997 - loss: 0.0170 - val_accuracy: 0.8572 - val_loss: 0.6527\n",
      "Epoch 7/10\n",
      "\u001b[1m57/57\u001b[0m \u001b[32m━━━━━━━━━━━━━━━━━━━━\u001b[0m\u001b[37m\u001b[0m \u001b[1m64s\u001b[0m 1s/step - accuracy: 1.0000 - loss: 0.0097 - val_accuracy: 0.8666 - val_loss: 0.6501\n",
      "Epoch 8/10\n",
      "\u001b[1m57/57\u001b[0m \u001b[32m━━━━━━━━━━━━━━━━━━━━\u001b[0m\u001b[37m\u001b[0m \u001b[1m65s\u001b[0m 1s/step - accuracy: 1.0000 - loss: 0.0054 - val_accuracy: 0.8655 - val_loss: 0.6557\n",
      "Epoch 9/10\n",
      "\u001b[1m57/57\u001b[0m \u001b[32m━━━━━━━━━━━━━━━━━━━━\u001b[0m\u001b[37m\u001b[0m \u001b[1m65s\u001b[0m 1s/step - accuracy: 1.0000 - loss: 0.0042 - val_accuracy: 0.8655 - val_loss: 0.6626\n",
      "Epoch 10/10\n",
      "\u001b[1m57/57\u001b[0m \u001b[32m━━━━━━━━━━━━━━━━━━━━\u001b[0m\u001b[37m\u001b[0m \u001b[1m96s\u001b[0m 2s/step - accuracy: 1.0000 - loss: 0.0035 - val_accuracy: 0.8682 - val_loss: 0.6640\n"
     ]
    },
    {
     "data": {
      "text/plain": [
       "<keras.src.callbacks.history.History at 0x323501400>"
      ]
     },
     "execution_count": 11,
     "metadata": {},
     "output_type": "execute_result"
    }
   ],
   "source": [
    "data_root_path = \"/Users/yanzhu/Documents/Office31\"\n",
    "image_data, image_labels, class_names = load_images_and_labels(data_root_path)\n",
    "train_data, train_labels, test_data, test_labels = split_data_by_class(image_data, image_labels, test_ratio=0.5)\n",
    "base_resnet_model = ResNet50(weights='imagenet', include_top=False, input_shape=(224, 224, 3))\n",
    "x = base_resnet_model.output\n",
    "x = GlobalAveragePooling2D()(x)\n",
    "x = Dense(512, activation='relu')(x)\n",
    "output = Dense(len(class_names), activation='softmax')(x)\n",
    "\n",
    "resnet_model = Model(inputs=base_resnet_model.input, outputs=output)\n",
    "for layer in base_resnet_model.layers:\n",
    "    layer.trainable = False\n",
    "resnet_model.compile(optimizer=Adam(learning_rate=0.001), loss='sparse_categorical_crossentropy', metrics=['accuracy'])\n",
    "resnet_model.fit(train_data, train_labels, epochs=10, batch_size=32, validation_data=(test_data, test_labels))"
   ]
  },
  {
   "cell_type": "code",
   "execution_count": null,
   "id": "68965ad3-e660-4c6f-8dcc-9c437fa3bf53",
   "metadata": {},
   "outputs": [],
   "source": []
  }
 ],
 "metadata": {
  "kernelspec": {
   "display_name": "Python 3 (ipykernel)",
   "language": "python",
   "name": "python3"
  },
  "language_info": {
   "codemirror_mode": {
    "name": "ipython",
    "version": 3
   },
   "file_extension": ".py",
   "mimetype": "text/x-python",
   "name": "python",
   "nbconvert_exporter": "python",
   "pygments_lexer": "ipython3",
   "version": "3.9.6"
  }
 },
 "nbformat": 4,
 "nbformat_minor": 5
}
